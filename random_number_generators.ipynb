{
 "cells": [
  {
   "cell_type": "code",
   "execution_count": 3,
   "metadata": {},
   "outputs": [
    {
     "name": "stdout",
     "output_type": "stream",
     "text": [
      "Random Number 1: 333\n",
      "Random Number 2: 1411\n",
      "Random Number 3: 63\n",
      "Random Number 4: 231\n",
      "Random Number 5: 1943\n",
      "Random Number 6: 151\n",
      "Random Number 7: 1223\n",
      "Random Number 8: 1671\n",
      "Random Number 9: 903\n",
      "Random Number 10: 791\n"
     ]
    }
   ],
   "source": [
    "def linear_congruential_generator(seed, a, b, m, n):\n",
    "    random_numbers = []\n",
    "    xn = seed\n",
    "    for _ in range(n):\n",
    "        xn = (a * xn + b) % m\n",
    "        random_numbers.append(xn)\n",
    "    return random_numbers\n",
    "\n",
    "# Parameters for the LCG\n",
    "seed = 66  # Initial seed value\n",
    "a = 34  # Multiplier\n",
    "b = 89  # Increment\n",
    "m = 2000  # Modulus\n",
    "n = 10  # Number of random numbers to generate\n",
    "\n",
    "random_numbers = linear_congruential_generator(seed, a, b, m, n)\n",
    "for i, num in enumerate(random_numbers):\n",
    "    print(f\"Random Number {i+1}: {num}\")"
   ]
  },
  {
   "cell_type": "code",
   "execution_count": 7,
   "metadata": {},
   "outputs": [
    {
     "name": "stdout",
     "output_type": "stream",
     "text": [
      "Random Number 1: 01010\n",
      "Random Number 2: 10100\n",
      "Random Number 3: 01000\n",
      "Random Number 4: 10001\n",
      "Random Number 5: 00011\n",
      "Random Number 6: 00111\n",
      "Random Number 7: 01110\n",
      "Random Number 8: 11101\n",
      "Random Number 9: 11011\n",
      "Random Number 10: 10111\n",
      "Random Number 11: 01111\n",
      "Random Number 12: 11111\n",
      "Random Number 13: 11110\n",
      "Random Number 14: 11100\n",
      "Random Number 15: 11001\n",
      "Random Number 16: 10010\n",
      "Random Number 17: 00100\n",
      "Random Number 18: 01001\n",
      "Random Number 19: 10011\n",
      "Random Number 20: 00110\n",
      "Random Number 21: 01100\n",
      "Random Number 22: 11000\n",
      "Random Number 23: 10000\n",
      "Random Number 24: 00001\n",
      "Random Number 25: 00010\n",
      "Random Number 26: 00101\n",
      "Random Number 27: 01011\n",
      "Random Number 28: 10110\n",
      "Random Number 29: 01101\n",
      "Random Number 30: 11010\n",
      "Random Number 31: 10101\n"
     ]
    }
   ],
   "source": [
    "def lfsr(seed, taps, num_bits):\n",
    "    lfsr_register = seed & ((1 << num_bits) - 1)\n",
    "    random_numbers = []\n",
    "\n",
    "    while True:\n",
    "        random_bit = 0\n",
    "        for tap in taps:\n",
    "            random_bit ^= (lfsr_register >> tap) & 1\n",
    "        lfsr_register = ((lfsr_register << 1) | random_bit) & ((1 << num_bits) - 1)\n",
    "        random_numbers.append(lfsr_register)\n",
    "        if lfsr_register == seed:\n",
    "            break\n",
    "\n",
    "    return random_numbers\n",
    "\n",
    "# Parameters for the LFSR\n",
    "seed = 0b10101  # Initial seed value (5 bits)\n",
    "taps = [1, 2, 3, 4]  # Taps for XOR logic\n",
    "num_bits = 5  # Number of bits\n",
    "\n",
    "random_numbers = lfsr(seed, taps, num_bits)\n",
    "for i, num in enumerate(random_numbers):\n",
    "    print(f\"Random Number {i+1}: {bin(num)[2:].zfill(num_bits)}\")\n"
   ]
  },
  {
   "cell_type": "code",
   "execution_count": 1,
   "metadata": {},
   "outputs": [
    {
     "name": "stdout",
     "output_type": "stream",
     "text": [
      "0001110111110010011000010110101000111011111001001100001011010100"
     ]
    }
   ],
   "source": [
    "# LFSR for stream of random bits\n",
    "\n",
    "def lfsr(seed, taps, num_bits):\n",
    "    lfsr_register = seed & ((1 << num_bits) - 1)\n",
    "\n",
    "    while True:\n",
    "        random_bit = 0\n",
    "        for tap in taps:\n",
    "            random_bit ^= (lfsr_register >> tap) & 1\n",
    "        lfsr_register = ((lfsr_register << 1) | random_bit) & ((1 << num_bits) - 1)\n",
    "        yield random_bit\n",
    "\n",
    "# Parameters for the LFSR\n",
    "seed = 0b10101  # Initial seed value (5 bits)\n",
    "taps = [1, 2, 3, 4]  # Taps for XOR logic\n",
    "num_bits = 5  # Number of bits\n",
    "\n",
    "lfsr_gen = lfsr(seed, taps, num_bits)\n",
    "\n",
    "i = 64  # number of random bit stream needed\n",
    "while (i):\n",
    "    i-=1\n",
    "    bit = next(lfsr_gen)\n",
    "    print(bit, end=\"\")\n"
   ]
  }
 ],
 "metadata": {
  "kernelspec": {
   "display_name": "Python 3",
   "language": "python",
   "name": "python3"
  },
  "language_info": {
   "codemirror_mode": {
    "name": "ipython",
    "version": 3
   },
   "file_extension": ".py",
   "mimetype": "text/x-python",
   "name": "python",
   "nbconvert_exporter": "python",
   "pygments_lexer": "ipython3",
   "version": "3.10.2"
  },
  "orig_nbformat": 4
 },
 "nbformat": 4,
 "nbformat_minor": 2
}
